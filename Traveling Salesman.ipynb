{
 "cells": [
  {
   "cell_type": "markdown",
   "id": "1371bfec",
   "metadata": {},
   "source": [
    "# Traveling Salesman Problem on Quantum Computer\n",
    "The traveling salesman problem (TSP) is an NP-hard problem in combinatorial optimization. It attempts to find the shortest possible route when given a list of cities, and the distance between those cities, while only visiting each city once, and returning back to the starting city. The TSP attempts to be solved from an exact algorithm, however, once the problem size increases, the running time also increases. Heuristic algorithms were the next approach to limit running time, however these do not give the most optimal solution. That is where quantum algorithms come in. \n",
    "\n",
    "In order to run the Traveling Salesman on a Quantum Computer you must import the neccessary packages that utilize the graph plotting function."
   ]
  },
  {
   "cell_type": "code",
   "execution_count": null,
   "id": "e7321250",
   "metadata": {},
   "outputs": [],
   "source": [
    "import matplotlib.pyplot as plt\n",
    "import matplotlib.axes as axes\n",
    "%matplotlib inline\n",
    "import numpy as np\n",
    "import networkx as nx"
   ]
  },
  {
   "cell_type": "markdown",
   "id": "beaba98f",
   "metadata": {},
   "source": [
    "## TSP using Qiskit on IBM Quantum\n",
    "IBM has 21 quantum systems, 8 of which are open to the public. Each system has a dedicated number of qubits, or quantum bits, and a dedicated quantum volume. The highest of these being 65 qubits, and 32 quantum volume. They also have 5 simulators, which are classical emulators of quantum systems. The highest number of qubits of the simulators are 5000 qubits. In order to use IBM Quantum (IMBQ), you must implement Qiskit, a quantum package from IBM. IBMQ also has a Qiskit Textbook to learn the features of Qiskit and IBMQ.       \n",
    "\n",
    "Solving the traveling salesman problem using quantum computing utilizes the built-in eigensolver function in Qiskit. First to use this function, you must create a graph with *n* nodes, then randomize the distance between the nodes. Then you must create the Hamiltonian circuit for the TSP of the graph. A hamiltonian circuit is a circuit that visits every vertex once, and it produces eigenvalues. Then using the built-in eigensolver function, from the hamiltonian, the smallest eigenvalue and eigenvector is determined. From there you can determine which qubit state is most likely with the result of the smallest eigenstate, and the order of which nodes are visited first. Then, you can determine the optimal distance. This method only works for a node of size *n=4* or lower. There is another method to run the TSP on a quantum simulator or quantum device. You must initialize the backend, or the quantum service, to do this you have to have an IBMQ account. You also have to use an optimizer to declare the amount of iterations. Then you define the circuit using the *TwoLocal* function, this is where you initialize the amount of qubits used and the types of gates for the quantum circuit. Then, using the *VQE* function to find the minimum eigenvalue of the hamiltonian, you can determine the qubit state that is most likely.\n",
    "\n",
    "To begin, the neccessary Qiskit packages must be imported."
   ]
  },
  {
   "cell_type": "code",
   "execution_count": null,
   "id": "136b07d7",
   "metadata": {},
   "outputs": [],
   "source": [
    "from qiskit import IBMQ\n",
    "from qiskit.circuit.library import TwoLocal\n",
    "from qiskit.optimization.applications.ising import tsp\n",
    "from qiskit.aqua.algorithms import VQE, NumPyMinimumEigensolver\n",
    "from qiskit.aqua.components.optimizers import SPSA\n",
    "from qiskit.aqua import QuantumInstance\n",
    "from qiskit.optimization.applications.ising.common import sample_most_likely\n",
    "from qiskit.optimization.algorithms import MinimumEigenOptimizer\n",
    "from qiskit.optimization.problems import QuadraticProgram"
   ]
  },
  {
   "cell_type": "markdown",
   "id": "7e4aec95",
   "metadata": {},
   "source": [
    "Next, a few definitions must be written to draw the tsp graph"
   ]
  },
  {
   "cell_type": "code",
   "execution_count": null,
   "id": "eb1aae58",
   "metadata": {},
   "outputs": [],
   "source": [
    "def draw_graph(G, colors, pos):\n",
    "    default_axes = plt.axes(frameon=True)\n",
    "    nx.draw_networkx(G, node_color=colors, node_size=600, alpha=.8, ax=default_axes, pos=pos)\n",
    "    edge_labels = nx.get_edge_attributes(G, 'weight')\n",
    "    nx.draw_networkx_edge_labels(G, pos=pos, edge_labels=edge_labels)\n",
    "    \n",
    "def draw_tsp_solution(G, order, colors, pos):\n",
    "    G2 = nx.DiGraph()\n",
    "    G2.add_nodes_from(G)\n",
    "    n = len(order)\n",
    "    for i in range(n):\n",
    "        j = (i + 1) % n\n",
    "        G2.add_edge(order[i], order[j], weight=G[order[i]][order[j]]['weight'])\n",
    "    default_axes = plt.axes(frameon=True)\n",
    "    nx.draw_networkx(G2, node_color=colors, edge_color='b', node_size=600, alpha=.8, ax=default_axes, pos=pos)\n",
    "    edge_labels = nx.get_edge_attributes(G2, 'weight')\n",
    "    nx.draw_networkx_edge_labels(G2, pos, font_color='b', edge_labels=edge_labels)"
   ]
  },
  {
   "cell_type": "markdown",
   "id": "324b4d61",
   "metadata": {},
   "source": [
    "Next, a weight matrix is created in order to draw the tsp graph and create a distance matrix. "
   ]
  },
  {
   "cell_type": "code",
   "execution_count": null,
   "id": "784fa7fe",
   "metadata": {},
   "outputs": [],
   "source": [
    "n = 4 #number of nodes\n",
    "G = nx.Graph() #initializing graph G\n",
    "\n",
    "# Computing the weight matrix\n",
    "w = np.zeros([n,n])\n",
    "for i in range(n):\n",
    "    for j in range(n):\n",
    "        temp = G.get_edge_data(i,j,default=0)\n",
    "        if temp != 0:\n",
    "            w[i,j] = temp['weight']\n",
    "\n",
    "num_qubits = n**2 #number of qubits needed\n",
    "ins = tsp.random_tsp(n, seed=123) #distance between each node\n",
    "print('distance\\n', ins.w) #printing the distance\n",
    "\n",
    "# Draw the graph\n",
    "G.add_nodes_from(np.arange(0, ins.dim, 1)) #adding each node to graph G\n",
    "colors = ['r' for node in G.nodes()]\n",
    "\n",
    "for i in range(0, ins.dim):\n",
    "    for j in range(i+1, ins.dim):\n",
    "        G.add_edge(i, j, weight=ins.w[i,j])    #adding the distance between each node to graph G\n",
    "\n",
    "pos = {k: v for k, v in enumerate(ins.coord)} \n",
    "\n",
    "draw_graph(G, colors, pos) #drawing graph G"
   ]
  },
  {
   "cell_type": "markdown",
   "id": "c9d15420",
   "metadata": {},
   "source": [
    "One way to solve the TSP is to use the built-in eigensolver function. First, create the Hamiltonian circuit for the graph, then, the smallest eigenvalue and eigenvector is determined. This produces which qubit state is most likely, which is then converted into the traveling salesman path. This method, however, only works for nodes sizes *n=4* and smaller.      "
   ]
  },
  {
   "cell_type": "code",
   "execution_count": null,
   "id": "1c09a1de",
   "metadata": {},
   "outputs": [],
   "source": [
    "qubitOp, offset = tsp.get_operator(ins) #creates the Hamiltonian for TSP of the graph\n",
    "qp = QuadraticProgram()\n",
    "qp.from_ising(qubitOp, offset, linear=True) #creates quadratic program\n",
    "\n",
    "#Making the Hamiltonian in its full form and getting the lowest eigenvalue and eigenvector\n",
    "eigenvalue = NumPyMinimumEigensolver(qubitOp) #determines the smallest eigenvalue and eigenvector\n",
    "result = eigenvalue.run() \n",
    "\n",
    "print('tsp objective:', result.eigenvalue.real + offset) #prints the optimal eigenvalue\n",
    "x = sample_most_likely(result.eigenstate) #determines which qubit state is most likely\n",
    "print('feasible:', tsp.tsp_feasible(x)) #printing whether or not the solution is possible\n",
    "z = tsp.get_tsp_solution(x) #determining which nodes are visited first\n",
    "print('solution:', z) #printing the order of which nodes to visit first\n",
    "print('solution objective:', tsp.tsp_value(z, ins.w)) #printing out the solution's optimal distance\n",
    "draw_tsp_solution(G, z, colors, pos) #drawing the graph of the solution"
   ]
  },
  {
   "cell_type": "markdown",
   "id": "4a4026fb",
   "metadata": {},
   "source": [
    "Another method is to use IBM's quantum simulators or quantum devices. This method requires the initialization of the backend for where the TSP will run. To do this, an account is needed with IBMQ. The backend used in this example is \"ibmq_qasm_simulator\"."
   ]
  },
  {
   "cell_type": "code",
   "execution_count": null,
   "id": "19345f19",
   "metadata": {},
   "outputs": [],
   "source": [
    "#initializing the backend to run tsp on quantum simulator\n",
    "provider = IBMQ.load_account()\n",
    "backend = provider.get_backend('ibmq_qasm_simulator')\n",
    "quantum_instance = QuantumInstance(backend, seed_simulator=10598, seed_transpiler=10598)"
   ]
  },
  {
   "cell_type": "markdown",
   "id": "61073f6d",
   "metadata": {},
   "source": [
    "Then, using the *VQE* (variational-quantum eigensolver) function, the minimum eigenvalue of the hamiltonian circuit is found. The *VQE* function uses the *Two Local* function to create a circuit from the hamiltonian and the *SPSA* (Simultaneous Perturbation Stochastic Approximation) function is the optimizer that tells the *VQE* function how many times to run. This method also only works for nodes sizes *n=4* and smaller. The percent feasibility decreases with each increased node size and the amount of time the problem takes to solve increases."
   ]
  },
  {
   "cell_type": "code",
   "execution_count": null,
   "id": "fe00ac95",
   "metadata": {},
   "outputs": [],
   "source": [
    "spsa = SPSA(maxiter=300)#the optimizer, states how many iterations\n",
    "ry = TwoLocal(qubitOp.num_qubits, 'ry', 'cz', reps=7, entanglement='linear') #defines the circuit\n",
    "vqe = VQE(qubitOp, ry, spsa, quantum_instance=quantum_instance)\n",
    "#defines the VQE algorithm to run on quantum simulator\n",
    "\n",
    "result = vqe.run(quantum_instance)#runs the circuit on quantum simulator\n",
    "\n",
    "print('time:', result.optimizer_time)#prints the amount of time the problem takes to solve\n",
    "x = sample_most_likely(result.eigenstate)#determines which qubit state is most likely\n",
    "print('feasible:', tsp.tsp_feasible(x))#printing whether or not the solution is possible\n",
    "z = tsp.get_tsp_solution(x)#determining which nodes are visited first\n",
    "print('solution:', z)#printing the order of which nodes to visit first\n",
    "print('solution objective:', tsp.tsp_value(z, ins.w))#printing out the solution's optimal distance\n",
    "draw_tsp_solution(G, z, colors, pos)#drawing the graph of the solution"
   ]
  },
  {
   "cell_type": "markdown",
   "id": "1840a9eb",
   "metadata": {},
   "source": [
    "Even though both of these methods produce the optimal solution, they are not useful, due to the fact that the largest graph size is only *n=4*. "
   ]
  },
  {
   "cell_type": "markdown",
   "id": "b710f780",
   "metadata": {},
   "source": [
    "## TSP using Leap and Ocean Software on a D'Wave Processor\n",
    "Leap is a cloud-based quantum service that gives access to quantum computers and quantum-hybrid solvers. In order to get started with Leap, you must create an account. This account gives a trial plan with a limited amount of time to be used to submit problems onto the solvers. There are four solvers available through Leap, two hybrid solvers and two quantum solvers. One of the hybrid solvers uses binary quadratic modeling to solve optimization problems, whereas the other hybrid solver uses discrete quadratic modeling to solve optimization problems. The two quantum solvers are the Advantage and the DW-2000Q. The Advantage has 5,760 qubits, whereas the DW-2000Q has 2048 qubits. Both solvers support problem types of ising and qubo (quadratic unconstrained binary optimization). This explanation will not be using ising models. Leap also provides emulator solvers, which are quantum simulators, and VFYC (virtual full-yield chip) solvers, which emulate the DW-2000Q solver. These two solvers are not available with the Leap trial plan. In order to use the D'Wave solvers, you must implement the Ocean Software. D'Wave has system documentation to help get you started.\n",
    "\n",
    "\n",
    "To begin, neccessary Ocean software must be imported."
   ]
  },
  {
   "cell_type": "code",
   "execution_count": null,
   "id": "e18dd71c",
   "metadata": {},
   "outputs": [],
   "source": [
    "import dwave_networkx as dnx\n",
    "from dwave.system.samplers import DWaveSampler\n",
    "from dwave.system.composites import EmbeddingComposite\n",
    "from dwave.system import LeapHybridSampler\n",
    "import neal\n",
    "import dimod\n",
    "import hybrid \n",
    "import random "
   ]
  },
  {
   "cell_type": "markdown",
   "id": "2b222547",
   "metadata": {},
   "source": [
    "First, a distance matrix is randomized to create the TSP graph. This example will be 10 nodes."
   ]
  },
  {
   "cell_type": "code",
   "execution_count": null,
   "id": "5904c765",
   "metadata": {},
   "outputs": [],
   "source": [
    "G = nx.complete_graph(10)\n",
    "for (u, v) in G.edges():\n",
    "    G.edges[u,v]['weight'] = random.randint(0,10)\n",
    "\n",
    "colors = ['r' for node in G.nodes()]\n",
    "pos = nx.spring_layout(G)\n",
    "\n",
    "draw_graph(G, colors, pos)"
   ]
  },
  {
   "cell_type": "markdown",
   "id": "fab9889d",
   "metadata": {},
   "source": [
    "There are multiple ways of finding the most optimal path for the traveling salesman using D'Wave and Leap. The first one is using the traveling salesperson algorithm from an Ocean tool. It defines a ground state qubo (quadratic unconstrained binary optimization) that corresponds to the route with the smallest total edge weight. The algorithm requires a sampler to run the problem on. This sampler could be one of the hybrid solvers. The two most optimal samplers are a reference sampler called Kerberos, which runs on the Advantage solver, and Leap's Hybrid solver called LeapHybridSampler. This example provides both solvers to determine which is most optimal. "
   ]
  },
  {
   "cell_type": "code",
   "execution_count": null,
   "id": "a7a4ea01",
   "metadata": {},
   "outputs": [],
   "source": [
    "S = dnx.traveling_salesperson(G, sampler=hybrid.KerberosSampler()) #calculates TSP path using Kerberos solver\n",
    "print(S)\n",
    "cost = sum(G[n][nbr][\"weight\"] for n, nbr in nx.utils.pairwise(S)) #calculate total distance\n",
    "print(cost)\n",
    "draw_tsp_solution(G, S, colors, pos)"
   ]
  },
  {
   "cell_type": "code",
   "execution_count": null,
   "id": "e9a3ced7",
   "metadata": {},
   "outputs": [],
   "source": [
    "S = dnx.traveling_salesperson(G, sampler=LeapHybridSampler()) #calculates TSP path using Leap Hybrid solver\n",
    "print(S)\n",
    "cost = sum(G[n][nbr][\"weight\"] for n, nbr in nx.utils.pairwise(S)) #calculate total distance\n",
    "print(cost)\n",
    "draw_tsp_solution(G, S, colors, pos)"
   ]
  },
  {
   "cell_type": "markdown",
   "id": "2004c3d2",
   "metadata": {},
   "source": [
    "Neither of these samplers is the most optimal, but they are very close to it. The other method starts by using the traveling salesperson algorithm to find the qubo, which will correspond to a minimum TSP route. Then it can be solved by using Kerberos and simply running the qubo on the Advantage solver. Then the qubit state with the lowest energy is returned and converted into the TSP path. Or, it can be solved using the LeapHybridSampler, which creates a binary quadratic model to run on Leap's Hybrid solver. The qubit with the lowest energy is also returned and then converted into the TSP path.\n",
    "\n",
    "The difference between this method and the previous method is this method splits the algorithm up into miltiple algorithms, whereas the previous one solves it all in one algorithm. \n",
    "\n",
    "In order to convert the qubit state into a TSP path, a definition must be written to do that conversion."
   ]
  },
  {
   "cell_type": "code",
   "execution_count": null,
   "id": "697a1420",
   "metadata": {},
   "outputs": [],
   "source": [
    "def binary_state_to_points_order(binary_state):\n",
    "    \"\"\"\n",
    "    Transforms the the order of points from the binary representation: [1,0,0,0,1,0,0,0,1],\n",
    "    to the binary one: [0, 1, 2]\n",
    "    \"\"\"\n",
    "    points_order = []\n",
    "    number_of_points = int(np.sqrt(len(binary_state)))\n",
    "    for p in range(number_of_points):\n",
    "        for j in range(number_of_points):\n",
    "            if binary_state[(number_of_points) * p + j] == 1:\n",
    "                points_order.append(j)\n",
    "    return points_order"
   ]
  },
  {
   "cell_type": "code",
   "execution_count": null,
   "id": "54cdc3a4",
   "metadata": {},
   "outputs": [],
   "source": [
    "Q= dnx.traveling_salesperson_qubo(G) #creating the qubo from the graph"
   ]
  },
  {
   "cell_type": "code",
   "execution_count": null,
   "id": "8f032091",
   "metadata": {},
   "outputs": [],
   "source": [
    "sampler = hybrid.KerberosSampler() #define which sampler is being used\n",
    "result = sampler.sample_qubo(Q) #run the tsp on the Advantage\n",
    "print(result.first.sample.values()) #print the qubit state with the lowest energy"
   ]
  },
  {
   "cell_type": "code",
   "execution_count": null,
   "id": "c389fe6d",
   "metadata": {},
   "outputs": [],
   "source": [
    "S= binary_state_to_points_order(#insert qubit state with lowest energy from previous output)\n",
    "print(S)\n",
    "cost = sum(G[n][nbr][\"weight\"] for n, nbr in nx.utils.pairwise(S))#calculate the total distance\n",
    "print(cost)\n",
    "draw_tsp_solution(G, S, colors, pos)"
   ]
  },
  {
   "cell_type": "code",
   "execution_count": null,
   "id": "0fa40402",
   "metadata": {},
   "outputs": [],
   "source": [
    "bqm = dimod.BQM.from_qubo(Q) #create binary quadratic model from qubo\n",
    "sampleset = LeapHybridSampler().sample(bqm) #run the tsp on Leap's Hybrid Processor\n",
    "print(sampleset.first.sample.values()) #print the qubit state with the lowest energy"
   ]
  },
  {
   "cell_type": "code",
   "execution_count": null,
   "id": "1c490a88",
   "metadata": {},
   "outputs": [],
   "source": [
    "S= binary_state_to_points_order(#insert qubit state with lowest energy from previous output)\n",
    "print(S)\n",
    "cost = sum(G[n][nbr][\"weight\"] for n, nbr in nx.utils.pairwise(S)) #calculate the total distance\n",
    "print(cost)\n",
    "draw_tsp_solution(G, S, colors, pos)"
   ]
  },
  {
   "cell_type": "markdown",
   "id": "d9d027f2",
   "metadata": {},
   "source": [
    "It is difficult to say which sampler is better at this point, however, using the traveling salesperson algorithm is much more optimal than the traveling salesperon qubo. Both methods work on much larger problem sizes and take a minimal amount of time. "
   ]
  },
  {
   "cell_type": "markdown",
   "id": "f8b5beb6",
   "metadata": {},
   "source": [
    "##### License and References"
   ]
  },
  {
   "cell_type": "code",
   "execution_count": null,
   "id": "90b34af4",
   "metadata": {},
   "outputs": [],
   "source": [
    "import qiskit.tools.jupyter\n",
    "%qiskit_copyright"
   ]
  },
  {
   "cell_type": "markdown",
   "id": "98d09c38",
   "metadata": {},
   "source": [
    "https://github.com/networkx/networkx/blob/main/LICENSE.txt \n",
    "\n",
    "https://github.com/BOHRTECHNOLOGY/quantum_tsp/blob/master/LICENSE\n",
    "\n",
    "https://docs.dwavesys.com/docs/latest/legal.html?highlight=license\n",
    "\n",
    "\"An investigation of IBM Quantum Computing device\n",
    "performance on Combinatorial Optimisation Problems\" \n",
    "url: https://arxiv.org/pdf/2107.03638.pdf\n",
    "\\bibitem[Khumalo \\emph{et al.}(2021)]{2021arXiv210703638K}Khumalo, M.T., Chieza, H.A., Prag, K., and Woolway, M.: 2021, {\\it arXiv e-prints}, arXiv:2107.03638."
   ]
  },
  {
   "cell_type": "code",
   "execution_count": null,
   "id": "e649971e",
   "metadata": {},
   "outputs": [],
   "source": []
  }
 ],
 "metadata": {
  "kernelspec": {
   "display_name": "Python 3",
   "language": "python",
   "name": "python3"
  },
  "language_info": {
   "codemirror_mode": {
    "name": "ipython",
    "version": 3
   },
   "file_extension": ".py",
   "mimetype": "text/x-python",
   "name": "python",
   "nbconvert_exporter": "python",
   "pygments_lexer": "ipython3",
   "version": "3.9.1"
  }
 },
 "nbformat": 4,
 "nbformat_minor": 5
}
